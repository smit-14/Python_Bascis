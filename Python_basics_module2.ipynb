{
  "nbformat": 4,
  "nbformat_minor": 0,
  "metadata": {
    "colab": {
      "provenance": []
    },
    "kernelspec": {
      "name": "python3",
      "display_name": "Python 3"
    },
    "language_info": {
      "name": "python"
    }
  },
  "cells": [
    {
      "cell_type": "markdown",
      "source": [
        "**THEORY QUESTIONS**"
      ],
      "metadata": {
        "id": "bkXoAorSbyxj"
      }
    },
    {
      "cell_type": "markdown",
      "source": [
        "1. What is Python, and why is it popular?\n",
        "\n",
        "- Python is a high-level, interpreted programming language known for its simplicity, readability, and versatility. It supports multiple programming paradigms, including procedural, object-oriented, and functional programming.\n",
        "\n",
        "- Why is Python popular?\n",
        "\n",
        " - Easy to Learn & Readable – Python has a simple syntax similar to English.\n",
        "\n",
        " - Large Community & Support – It has extensive libraries and frameworks (e.g., NumPy, Django).\n",
        "\n",
        " - Versatile – Used in web development, data science, machine learning, automation, and more.\n",
        "\n",
        " - Cross-Platform – Runs on multiple operating systems (Windows, macOS, Linux).\n",
        "\n",
        "2. What is an interpreter in Python?\n",
        "- An interpreter is a program that directly executes Python code line by line without requiring compilation. Python’s interpreter processes the code at runtime, making debugging easier but potentially slower than compiled languages.\n",
        "\n",
        "- Examples of Python interpreters:\n",
        "\n",
        "  - CPython (default interpreter)\n",
        "  - PyPy (JIT compiler-based)\n",
        "  - Jython (runs Python on the Java platform)\n",
        "  - IronPython (for .NET integration)\n",
        "\n",
        "3. What are pre-defined keywords in Python?\n",
        "- Pre-defined keywords in Python are reserved words that have special meanings in the language. They cannot be used as identifiers (variable names, function names, etc.).\n",
        "- Some common keywords include:\n",
        "if, else, for, while, def, class, try, except, return, yield, import, lambda, True, False, None, etc.\n",
        "\n",
        "4. Can keywords be used as variable names?\n",
        "- No, keywords cannot be used as variable names in Python because they have predefined meanings and roles in the language. Using them as variables would cause syntax errors.\n",
        "- If you want to use a keyword-like name, you can modify it (e.g., def_ instead of def).\n",
        "\n",
        "5. What is mutability in Python?\n",
        "- Mutability refers to whether an object’s state (its values or attributes) can be changed after it is created.\n",
        "\n",
        "  - Mutable objects: Can be modified after creation (e.g., lists, dictionaries, sets).\n",
        "  - Immutable objects: Cannot be modified after creation (e.g., tuples, strings, integers).\n",
        "\n",
        "6. Why are lists mutable, but tuples are immutable?\n",
        "- Lists are mutable because they are designed for dynamic data storage. You can add, remove, or modify elements freely.\n",
        "- Tuples are immutable because they are optimized for performance and memory efficiency. They are often used for fixed data structures.\n",
        "- Python enforces tuple immutability by storing tuples in a way that prevents changes, while lists are implemented to allow modifications.\n",
        "\n",
        "7. What is the difference between “==” and “is” operators in Python?\n",
        "-  == (Equality Operator)\n",
        "  - Compares the contents (values) of two objects.\n",
        "  - If two objects have the same value, == returns True, even if they are stored at different memory locations.\n",
        "-  is (Identity Operator)\n",
        "  - Checks whether two objects refer to the same memory address (i.e., they are the exact same object).\n",
        "  - If two variables point to the same object in memory, is returns True. Otherwise, it returns False, even if their values are identical.\n",
        "- Key Differences:\n",
        "  - == checks for value equality.\n",
        "  - is checks for object identity (whether they are the same object in memory).\n",
        "\n",
        "8. What are logical operators in Python?\n",
        "- Logical operators are used to combine conditional expressions and return a Boolean result (True or False). These operators evaluate the truth values of expressions and determine the overall result based on logical rules.\n",
        "\n",
        "- Types of Logical Operators:\n",
        "  1. and (Logical AND)\n",
        "\n",
        "   - Returns True if both conditions are True.\n",
        "   - If any condition is False, the result is False.\n",
        "  2. or (Logical OR)\n",
        "\n",
        "   - Returns True if at least one condition is True.\n",
        "   - Returns False only if both conditions are False.\n",
        "\n",
        "  3. not (Logical NOT)\n",
        "\n",
        "   - Negates a Boolean value (reverses True to False and vice versa).\n",
        "- Key Points:\n",
        "   - Short-circuiting:\n",
        "     - In and, if the first condition is False, Python does not check the second condition.\n",
        "     - In or, if the first condition is True, Python does not check the second condition.\n",
        "     - Logical operators are commonly used in decision-making, loops, and filtering data.\n",
        "\n",
        "9. What is type casting in Python?\n",
        "- Type casting (or type conversion) in Python is the process of converting a variable from one data type to another. Python supports two types of type casting:\n",
        "\n",
        "1. Implicit Type Casting (Automatic Conversion)\n",
        " - Done automatically by Python when there is no risk of data loss.\n",
        " - Happens when mixing different data types in an expression.\n",
        "2. Explicit Type Casting (Manual Conversion)\n",
        " - Done using built-in functions to forcefully convert a value to a specific type.\n",
        "- Type casting is useful when handling user input, arithmetic operations, and data processing.\n",
        "\n",
        "10. What is the difference between implicit and explicit type casting?\n",
        "- Type casting (type conversion) in Python is the process of converting a variable from one data type to another. It is classified into two types: implicit type casting and explicit type casting.\n",
        "\n",
        "1. Implicit Type Casting (Automatic Conversion)\n",
        " - Performed automatically by Python when there is no risk of data loss.\n",
        " - Happens when Python upgrades a smaller data type to a larger one to maintain precision.\n",
        " - No manual intervention is required.\n",
        "- Example (Implicit Type Casting)\n",
        " - Integer (int) → Float (float)\n",
        " - Float (float) → Complex (complex)\n",
        "- Key Characteristics:\n",
        " - No need for explicit conversion.\n",
        " - Prevents data loss.\n",
        " - Automatically determined by Python.\n",
        "2. Explicit Type Casting (Manual Conversion)\n",
        "- Done manually using built-in functions such as int(), float(), str(), etc.\n",
        "- Required when converting between incompatible types, such as string to integer.\n",
        "- May result in data loss if converting from a larger data type to a smaller one (e.g., float to int).\n",
        "  - Key Characteristics:\n",
        "   - Performed manually by the programmer.\n",
        "   - May lead to precision loss (e.g., converting 3.9 to 3 using int()).\n",
        "   - Essential when working with user input (which is typically a string).\n",
        "\n",
        "- Conclusion\n",
        "  - Implicit Type Casting is safer and done automatically when there’s no risk of data loss.\n",
        "  - Explicit Type Casting requires manual intervention and is useful when working with different data types, especially user inputs.\n",
        "- Understanding both types helps in avoiding type errors and handling data correctly in Python programs.\n",
        "\n",
        "11. What is the purpose of conditional statements in Python?\n",
        "- Conditional statements in Python are used to control the flow of execution based on specific conditions. They allow a program to make decisions and execute different code blocks depending on whether a condition is True or False.\n",
        "\n",
        "- Why Are Conditional Statements Important?\n",
        "  - Decision-Making → Enables programs to make choices based on conditions.\n",
        "  - Dynamic Execution → Allows different parts of code to run based on input or circumstances.\n",
        "  - Increases Flexibility → Helps in implementing loops, error handling, and business logic.\n",
        "\n",
        "12. How does the elif statement work?\n",
        "- The elif (short for \"else if\") statement is used when multiple conditions need to be checked sequentially. It allows Python to evaluate multiple expressions and execute the first block of code where the condition is True.\n",
        "\n",
        "- How It Works:\n",
        "  - The program checks the first if condition.\n",
        "  - If if is False, it moves to the elif condition(s).\n",
        "  - If an elif condition is True, its block executes, and the rest are skipped.\n",
        "  - If none of the if or elif conditions are True, the else block (if present) executes.\n",
        "\n",
        "13. What is the difference between for and while loops?\n",
        "- Both for and while loops are used for iteration in Python, but they work in different ways.\n",
        "\n",
        "1. for Loop (Definite Loop)\n",
        " - Used when the number of iterations is known beforehand.\n",
        " - Iterates over a sequence (e.g., list, tuple, string, range).\n",
        " - Automatically stops when the sequence ends.\n",
        "2. while Loop (Indefinite Loop)\n",
        " - Used when the number of iterations is unknown beforehand.\n",
        " - Runs as long as a condition remains True.\n",
        " - Requires manual control (e.g., updating a counter) to avoid infinite loops.\n",
        "- Conclusion\n",
        " - Use for loops when you know the number of iterations or need to iterate over a sequence.\n",
        " - Use while loops when you don’t know the number of iterations in advance and need a condition to control repetition.\n",
        "\n",
        "14. Describe a scenario where a while loop is more suitable than a for loop.\n",
        "  - A while loop is more suitable than a for loop when the number of iterations is unknown beforehand and depends on a condition being met.\n",
        "\n",
        "  - Scenario: User Input Validation\n",
        "    Imagine a scenario where we need to keep asking a user for a valid password until they enter one that meets the criteria.\n",
        "  - Why Use while?\n",
        "\n",
        "    > We don’t know how many times the loop will run in advance.\n",
        "      The loop continues until the user enters a valid password.\n",
        "      A for loop wouldn’t be ideal because it typically iterates over a fixed range or sequence.\n",
        "\n",
        "\n"
      ],
      "metadata": {
        "id": "V3FlVq7hbBZr"
      }
    },
    {
      "cell_type": "code",
      "source": [
        "password = \"\"\n",
        "while len(password) < 8:\n",
        "    password = input(\"Enter a password (at least 8 characters): \")\n",
        "\n",
        "print(\"Password accepted!\")"
      ],
      "metadata": {
        "colab": {
          "base_uri": "https://localhost:8080/"
        },
        "id": "nMngk5Z6cs2P",
        "outputId": "a8c97cfd-177f-49e3-fc63-ff18bb97e0f5"
      },
      "execution_count": null,
      "outputs": [
        {
          "output_type": "stream",
          "name": "stdout",
          "text": [
            "Enter a password (at least 8 characters): krishna\n",
            "Enter a password (at least 8 characters): krishna\n",
            "Enter a password (at least 8 characters): krishna12\n",
            "Password accepted!\n"
          ]
        }
      ]
    },
    {
      "cell_type": "markdown",
      "source": [
        "**PRACTICAL QUESTIONS**"
      ],
      "metadata": {
        "id": "jUfxcAhdbmRH"
      }
    },
    {
      "cell_type": "markdown",
      "source": [
        "1. Write a Python program to print \"Hello, World!\"\n"
      ],
      "metadata": {
        "id": "33bZD9iJpHXZ"
      }
    },
    {
      "cell_type": "code",
      "execution_count": null,
      "metadata": {
        "colab": {
          "base_uri": "https://localhost:8080/"
        },
        "id": "KZvoPM3kpFwB",
        "outputId": "9c35eed5-0ece-4d21-aa12-5146a55614e5"
      },
      "outputs": [
        {
          "output_type": "stream",
          "name": "stdout",
          "text": [
            "Hello, World!\n"
          ]
        }
      ],
      "source": [
        "print(\"Hello, World!\")"
      ]
    },
    {
      "cell_type": "markdown",
      "source": [
        "2. Write a Python program that displays your name and age."
      ],
      "metadata": {
        "id": "zavFMzKIpRVP"
      }
    },
    {
      "cell_type": "code",
      "source": [
        "name = \"Solanki Smit\"\n",
        "age = 19\n",
        "print(f\"My name is {name} and I am {age} years old.\")"
      ],
      "metadata": {
        "colab": {
          "base_uri": "https://localhost:8080/"
        },
        "id": "zP-cuGGlpQUN",
        "outputId": "755e4df9-981a-41dc-dbb8-d4676254e841"
      },
      "execution_count": 1,
      "outputs": [
        {
          "output_type": "stream",
          "name": "stdout",
          "text": [
            "My name is Solanki Smit and I am 19 years old.\n"
          ]
        }
      ]
    },
    {
      "cell_type": "markdown",
      "source": [
        "3. Write code to print all the pre-defined keywords in Python using the keyword library."
      ],
      "metadata": {
        "id": "eKtm4-PMpdCt"
      }
    },
    {
      "cell_type": "code",
      "source": [
        "import keyword\n",
        "print(keyword.kwlist)"
      ],
      "metadata": {
        "colab": {
          "base_uri": "https://localhost:8080/"
        },
        "id": "JLwz9uAspgvd",
        "outputId": "78c0f813-0616-44df-ae04-69ae7e47da51"
      },
      "execution_count": null,
      "outputs": [
        {
          "output_type": "stream",
          "name": "stdout",
          "text": [
            "['False', 'None', 'True', 'and', 'as', 'assert', 'async', 'await', 'break', 'class', 'continue', 'def', 'del', 'elif', 'else', 'except', 'finally', 'for', 'from', 'global', 'if', 'import', 'in', 'is', 'lambda', 'nonlocal', 'not', 'or', 'pass', 'raise', 'return', 'try', 'while', 'with', 'yield']\n"
          ]
        }
      ]
    },
    {
      "cell_type": "markdown",
      "source": [
        "4. Write a program that checks if a given word is a Python keyword."
      ],
      "metadata": {
        "id": "79T6-BMnpjxu"
      }
    },
    {
      "cell_type": "code",
      "source": [
        "import keyword\n",
        "\n",
        "word = input(\"Enter a word: \")\n",
        "if keyword.iskeyword(word):\n",
        "    print(f'\"{word}\" is a Python keyword.')\n",
        "else:\n",
        "    print(f'\"{word}\" is not a Python keyword.')"
      ],
      "metadata": {
        "colab": {
          "base_uri": "https://localhost:8080/"
        },
        "id": "awPpOE57picU",
        "outputId": "7ccee5fa-55d4-49d5-96c9-b4120395f360"
      },
      "execution_count": null,
      "outputs": [
        {
          "output_type": "stream",
          "name": "stdout",
          "text": [
            "Enter a word: True\n",
            "\"True\" is a Python keyword.\n"
          ]
        }
      ]
    },
    {
      "cell_type": "markdown",
      "source": [
        "5. Create a list and tuple in Python, and demonstrate how attempting to change an element works differently\n",
        "for each."
      ],
      "metadata": {
        "id": "mY6QSEiXpyF3"
      }
    },
    {
      "cell_type": "code",
      "source": [
        "# List (Mutable)\n",
        "my_list = [1, 2, 3]\n",
        "print(\"Original list:\", my_list)\n",
        "my_list[0] = 10  # Modifying an element\n",
        "print(\"Modified list:\", my_list)\n",
        "\n",
        "# Tuple (Immutable)\n",
        "my_tuple = (1, 2, 3)\n",
        "print(\"Original tuple:\", my_tuple)\n",
        "try:\n",
        "    my_tuple[0] = 10  # Attempting to modify\n",
        "except TypeError as e:\n",
        "    print(\"Error:\", e)"
      ],
      "metadata": {
        "colab": {
          "base_uri": "https://localhost:8080/"
        },
        "id": "uAyyudIAppwM",
        "outputId": "c1387d59-4c9a-4e9e-c820-64df5b3f5075"
      },
      "execution_count": null,
      "outputs": [
        {
          "output_type": "stream",
          "name": "stdout",
          "text": [
            "Original list: [1, 2, 3]\n",
            "Modified list: [10, 2, 3]\n",
            "Original tuple: (1, 2, 3)\n",
            "Error: 'tuple' object does not support item assignment\n"
          ]
        }
      ]
    },
    {
      "cell_type": "markdown",
      "source": [
        "6. Write a function to demonstrate the behavior of mutable and immutable arguments."
      ],
      "metadata": {
        "id": "g-otUfsaqAUf"
      }
    },
    {
      "cell_type": "code",
      "source": [
        "def modify_arguments(immutable, mutable):\n",
        "    immutable += 1  # This won't affect the original value\n",
        "    mutable.append(4)  # This will modify the original list\n",
        "\n",
        "# Immutable argument (integer)\n",
        "num = 10\n",
        "# Mutable argument (list)\n",
        "lst = [1, 2, 3]\n",
        "\n",
        "print(\"Before function call:\", num, lst)\n",
        "modify_arguments(num, lst)\n",
        "print(\"After function call:\", num, lst)  # Notice the change in the list"
      ],
      "metadata": {
        "colab": {
          "base_uri": "https://localhost:8080/"
        },
        "id": "A0iizDfYp5uD",
        "outputId": "15ffb888-1e93-4e43-e9ea-237106c6cc5a"
      },
      "execution_count": null,
      "outputs": [
        {
          "output_type": "stream",
          "name": "stdout",
          "text": [
            "Before function call: 10 [1, 2, 3]\n",
            "After function call: 10 [1, 2, 3, 4]\n"
          ]
        }
      ]
    },
    {
      "cell_type": "markdown",
      "source": [
        "7. Write a function to demonstrate the behavior of mutable and immutable arguments."
      ],
      "metadata": {
        "id": "cBrsnnbjqZX2"
      }
    },
    {
      "cell_type": "code",
      "source": [
        "def modify_arguments(immutable, mutable):\n",
        "    immutable += 1  # This won't affect the original value\n",
        "    mutable.append(4)  # This will modify the original list\n",
        "\n",
        "# Immutable argument (integer)\n",
        "num = 10\n",
        "# Mutable argument (list)\n",
        "lst = [1, 2, 3]\n",
        "\n",
        "print(\"Before function call:\", num, lst)\n",
        "modify_arguments(num, lst)\n",
        "print(\"After function call:\", num, lst)  # Notice the change in the list"
      ],
      "metadata": {
        "colab": {
          "base_uri": "https://localhost:8080/"
        },
        "id": "ewFXxLtZqNBS",
        "outputId": "ec19ffdb-6884-4dcb-9987-093e234f29ad"
      },
      "execution_count": null,
      "outputs": [
        {
          "output_type": "stream",
          "name": "stdout",
          "text": [
            "Before function call: 10 [1, 2, 3]\n",
            "After function call: 10 [1, 2, 3, 4]\n"
          ]
        }
      ]
    },
    {
      "cell_type": "markdown",
      "source": [
        "8. Write a program to demonstrate the use of logical operators."
      ],
      "metadata": {
        "id": "Xf0cAiylq1C1"
      }
    },
    {
      "cell_type": "code",
      "source": [
        "a = True\n",
        "b = False\n",
        "\n",
        "print(\"a and b:\", a and b)  # False\n",
        "print(\"a or b:\", a or b)    # True\n",
        "print(\"not a:\", not a)      # False"
      ],
      "metadata": {
        "colab": {
          "base_uri": "https://localhost:8080/"
        },
        "id": "-aB3qTIYqu19",
        "outputId": "1fe36fcc-bc49-4c7a-d773-00c61eb11992"
      },
      "execution_count": null,
      "outputs": [
        {
          "output_type": "stream",
          "name": "stdout",
          "text": [
            "a and b: False\n",
            "a or b: True\n",
            "not a: False\n"
          ]
        }
      ]
    },
    {
      "cell_type": "markdown",
      "source": [
        "9. Write a Python program to convert user input from string to integer, float, and boolean types."
      ],
      "metadata": {
        "id": "cK98-4neq6T0"
      }
    },
    {
      "cell_type": "code",
      "source": [
        "user_input = input(\"Enter a value: \")\n",
        "\n",
        "int_value = int(user_input)\n",
        "float_value = float(user_input)\n",
        "bool_value = bool(user_input)\n",
        "\n",
        "print(\"Integer:\", int_value)\n",
        "print(\"Float:\", float_value)\n",
        "print(\"Boolean:\", bool_value)"
      ],
      "metadata": {
        "colab": {
          "base_uri": "https://localhost:8080/"
        },
        "id": "URNl0LUWq4dZ",
        "outputId": "2c86a0b3-47af-4233-ef17-94b91ae10b10"
      },
      "execution_count": null,
      "outputs": [
        {
          "output_type": "stream",
          "name": "stdout",
          "text": [
            "Enter a value: 20\n",
            "Integer: 20\n",
            "Float: 20.0\n",
            "Boolean: True\n"
          ]
        }
      ]
    },
    {
      "cell_type": "markdown",
      "source": [
        "10. Write code to demonstrate type casting with list elements."
      ],
      "metadata": {
        "id": "8TJC3FSArA2l"
      }
    },
    {
      "cell_type": "code",
      "source": [
        "string_list = [\"10\", \"20\", \"30\"]  # List of strings\n",
        "\n",
        "int_list = list(map(int, string_list))  # Convert to integers\n",
        "float_list = list(map(float, string_list))  # Convert to floats\n",
        "\n",
        "print(\"Original list:\", string_list)\n",
        "print(\"Integer list:\", int_list)\n",
        "print(\"Float list:\", float_list)"
      ],
      "metadata": {
        "colab": {
          "base_uri": "https://localhost:8080/"
        },
        "id": "rrKFqGyxq-sL",
        "outputId": "f572a61c-c214-492d-cebb-c27a42e48a18"
      },
      "execution_count": null,
      "outputs": [
        {
          "output_type": "stream",
          "name": "stdout",
          "text": [
            "Original list: ['10', '20', '30']\n",
            "Integer list: [10, 20, 30]\n",
            "Float list: [10.0, 20.0, 30.0]\n"
          ]
        }
      ]
    },
    {
      "cell_type": "markdown",
      "source": [
        "11. Write a program that checks if a number is positive, negative, or zero."
      ],
      "metadata": {
        "id": "8p1RjeoDrPg9"
      }
    },
    {
      "cell_type": "code",
      "source": [
        "num = float(input(\"Enter a number: \"))\n",
        "\n",
        "if num > 0:\n",
        "    print(\"The number is positive.\")\n",
        "elif num < 0:\n",
        "    print(\"The number is negative.\")\n",
        "else:\n",
        "    print(\"The number is zero.\")"
      ],
      "metadata": {
        "colab": {
          "base_uri": "https://localhost:8080/"
        },
        "id": "oMshOH_QrG2U",
        "outputId": "aa7600cf-eb23-464d-84a2-6f5f67520276"
      },
      "execution_count": null,
      "outputs": [
        {
          "output_type": "stream",
          "name": "stdout",
          "text": [
            "Enter a number: -7\n",
            "The number is negative.\n"
          ]
        }
      ]
    },
    {
      "cell_type": "markdown",
      "source": [
        "12. Write a for loop to print numbers from 1 to 10."
      ],
      "metadata": {
        "id": "Q1ThgGSZrVju"
      }
    },
    {
      "cell_type": "code",
      "source": [
        "for i in range(1, 10):\n",
        "    print(i, end=\" \")"
      ],
      "metadata": {
        "colab": {
          "base_uri": "https://localhost:8080/"
        },
        "id": "TvaaudYNrTkE",
        "outputId": "edb27b23-dbca-4304-80bb-34086f6113d6"
      },
      "execution_count": null,
      "outputs": [
        {
          "output_type": "stream",
          "name": "stdout",
          "text": [
            "1 2 3 4 5 6 7 8 9 "
          ]
        }
      ]
    },
    {
      "cell_type": "markdown",
      "source": [
        "13. Write a Python program to find the sum of all even numbers between 1 and 50."
      ],
      "metadata": {
        "id": "evDGhcNwrdaf"
      }
    },
    {
      "cell_type": "code",
      "source": [
        "sum_even = sum(num for num in range(1, 50) if num % 2 == 0)\n",
        "print(\"Sum of even numbers from 1 to 50:\", sum_even)"
      ],
      "metadata": {
        "colab": {
          "base_uri": "https://localhost:8080/"
        },
        "id": "VdGaIvSwrZk_",
        "outputId": "c6d6e788-7596-4480-d550-dd4457e9b702"
      },
      "execution_count": null,
      "outputs": [
        {
          "output_type": "stream",
          "name": "stdout",
          "text": [
            "Sum of even numbers from 1 to 50: 600\n"
          ]
        }
      ]
    },
    {
      "cell_type": "markdown",
      "source": [
        "14. Write a program to reverse a string using a while loop."
      ],
      "metadata": {
        "id": "Q08xIvhWrouW"
      }
    },
    {
      "cell_type": "code",
      "source": [
        "string = input(\"Enter a string: \")\n",
        "reversed_string = \"\"\n",
        "i = len(string) - 1\n",
        "\n",
        "while i >= 0:\n",
        "    reversed_string += string[i]\n",
        "    i -= 1\n",
        "\n",
        "print(\"Reversed string:\", reversed_string)"
      ],
      "metadata": {
        "colab": {
          "base_uri": "https://localhost:8080/"
        },
        "id": "dGAwRlNtrkv3",
        "outputId": "eaa5af8f-6eb1-4c74-8428-222fa09aa6d7"
      },
      "execution_count": null,
      "outputs": [
        {
          "output_type": "stream",
          "name": "stdout",
          "text": [
            "Enter a string: hello\n",
            "Reversed string: olleh\n"
          ]
        }
      ]
    },
    {
      "cell_type": "markdown",
      "source": [
        "15. Write a Python program to calculate the factorial of a number provided by the user using a while loop."
      ],
      "metadata": {
        "id": "TgGiPiwSrxTe"
      }
    },
    {
      "cell_type": "code",
      "source": [
        "num = int(input(\"Enter a number: \"))\n",
        "\n",
        "factorial = 1\n",
        "i = num\n",
        "\n",
        "while i > 0:\n",
        "    factorial *= i\n",
        "    i -= 1\n",
        "\n",
        "print(f\"Factorial of {num} is {factorial}\")"
      ],
      "metadata": {
        "colab": {
          "base_uri": "https://localhost:8080/"
        },
        "id": "qFlWdXQBrt4s",
        "outputId": "99445e56-8887-4139-8539-7059e5aa83b5"
      },
      "execution_count": null,
      "outputs": [
        {
          "output_type": "stream",
          "name": "stdout",
          "text": [
            "Enter a number: 24\n",
            "Factorial of 24 is 620448401733239439360000\n"
          ]
        }
      ]
    }
  ]
}